{
 "cells": [
  {
   "cell_type": "markdown",
   "id": "32461889",
   "metadata": {},
   "source": [
    "<p align=\"center\">\n",
    "  <img src=\"datasafari-logo-primary.png\" width=\"300\">\n",
    "</p>"
   ]
  },
  {
   "cell_type": "markdown",
   "id": "28fde0d9",
   "metadata": {},
   "source": [
    "# **Session 1**\n",
    "## **Introduction to Python, Python Basics & Jupyter Notebooks** \n",
    "\n",
    "- **WHAT DO YOU KNOW ABOUT PYTHON?**\n",
    "- **WHERE DOW WRITE AND RUN PYTHON CODES?**\n",
    "- **WHAT IS PYTHON BEST FOR?**\n",
    "- **WHY PYTHON WHEN IT COMES TO DATA SCIENCE AND AI?**"
   ]
  },
  {
   "cell_type": "markdown",
   "id": "8f57c294",
   "metadata": {},
   "source": [
    "<details>\n",
    "  <summary>Here are Tips</summary>\n",
    "  Today, we'll begin our journey towards AI development start with Python and Jupyter Notebooks — essential tools for any data scientist.  \n",
    "  We'll work with **real-world examples** data drawn from students surroundings.\n",
    "\n",
    " 💡 Python is the language of choice for:\n",
    " - Data analysis & visualization\n",
    " - Machine learning & AI\n",
    " - Scientific research\n",
    " </details>"
   ]
  },
  {
   "cell_type": "markdown",
   "id": "389bcf96",
   "metadata": {},
   "source": [
    "By the end of this session, you will:\n",
    "- Launch and navigate Jupyter Notebook\n",
    "- Create and use Python variables\n",
    "- Work with basic data types and data structures\n",
    "- Document your work in Markdown"
   ]
  },
  {
   "cell_type": "markdown",
   "id": "d86fb6f4",
   "metadata": {},
   "source": [
    "## 🖥 **Jupyter Notebook Basics**\n",
    "\n",
    "Jupyter is an interactive environment where you can:\n",
    "- **Write code** (in *Code Cells*)\n",
    "- **Write explanations** (in *Markdown Cells*)\n",
    "\n",
    "🔹 Code Cell → For Python code  \n",
    "🔹 Markdown Cell → For text, explanations, and formatting\n",
    "\n",
    "**Keyboard Shortcuts:**\n",
    "- `Shift + Enter` → Run a cell\n",
    "- `Esc` → Command mode (blue border)\n",
    "- `Enter` → Edit mode (green border)\n",
    "\n",
    "Let's start with the classic first program:\n"
   ]
  },
  {
   "cell_type": "code",
   "execution_count": null,
   "id": "53a76e1d",
   "metadata": {},
   "outputs": [],
   "source": [
    "print(\"Hello, AI Wizards!\")"
   ]
  },
  {
   "cell_type": "markdown",
   "id": "a8ba5e17",
   "metadata": {},
   "source": [
    "### Activity 1:\n",
    "\n",
    "- Add a Markdown cell that explains what your code does.\n",
    "\n",
    "- Change the message to greet your university or region."
   ]
  },
  {
   "cell_type": "markdown",
   "id": "c15c69c7",
   "metadata": {},
   "source": [
    "## 🏷 **Python Variables and Data Types**\n",
    "\n",
    "A variable is like a container for storing data. Take an example your **Back pack** or **Hand bag** within you put different things like Books, Laptop, Phone charger, etc. Now the **Hand Bag** is a variable that stores or contain thing(s)\n",
    "\n",
    "In data science, variables store:\n",
    "- Numbers (e.g., counts, averages)\n",
    "- Text (e.g., student names or any text data)\n",
    "- Logical values (e.g., passed or failed)\n",
    "\n",
    "We can store:\n",
    "- **Integers (`int`)** — whole numbers\n",
    "- **Floats (`float`)** — decimal numbers\n",
    "- **Strings (`str`)** — text\n",
    "- **Booleans (`bool`)** — True/False values\n",
    "\n",
    "### Examples:\n",
    "- `total_students = 120` → Number of students enrolled in AI Wizards\n",
    "- `average_gpa = 3.4` → Average GPA\n",
    "- `university_name = \"SUA\"` Name \n",
    "- `data_science_course_active = True` Yes/No\n"
   ]
  },
  {
   "cell_type": "code",
   "execution_count": null,
   "id": "06f5a457",
   "metadata": {},
   "outputs": [],
   "source": [
    "\n",
    "# Example: Variables with a student dataset\n",
    "total_students = ...            # int\n",
    "average_gpa = ...               # float\n",
    "school_name = ...   # str\n",
    "data_science_course_active = ...  # bool\n",
    "\n",
    "print(\"School:\", ...)\n",
    "print(\"Total Students:\", ...)\n",
    "print(\"Average GPA:\", ...)\n",
    "print(\"Course Active:\", ...)\n"
   ]
  },
  {
   "cell_type": "markdown",
   "id": "a0545f75",
   "metadata": {},
   "source": [
    "### Activity 2:\n",
    "- Create your own variables for:\n",
    "\n",
    "  * Number of farmers in your area\n",
    "\n",
    "  * Price of 1kg of rice\n",
    "\n",
    "  * Name of the Region\n",
    "\n",
    "  * Whether you are in the rainy season or not"
   ]
  },
  {
   "cell_type": "markdown",
   "id": "ebf0336e",
   "metadata": {},
   "source": [
    "## ➕ **Python Operations and Expressions**\n",
    "\n",
    "Python can:\n",
    "- Perform mathematical calculations on numeric data.\n",
    "- Combine and format text.\n",
    "\n",
    "In data science, you often:\n",
    "- Calculate averages, percentages, std etc.\n",
    "- Combine strings for labels and reports.\n",
    "\n",
    "We can perform:\n",
    "- Arithmetic: `+`, `-`, `*`, `/`, `**` (power)\n",
    "- String concatenation: `\"Hello\" + \" World\"`\n",
    "- QN: What is the difference between `=` and `==` ?\n",
    "\n",
    "Example: Calculate average marks of students and print a report message.\n"
   ]
  },
  {
   "cell_type": "code",
   "execution_count": null,
   "id": "ff8b943c",
   "metadata": {},
   "outputs": [],
   "source": [
    "# Example: Calculating average marks\n",
    "math_marks = ...\n",
    "science_marks = ...\n",
    "... = (... + ...) / 2\n",
    "print(\"Average Marks:\", ...)\n",
    "\n",
    "# String combination for a report\n",
    "student_name = \"...\"\n",
    "report_message = \"Student: \" + ... + \" | Average Marks: \" + str(...)\n",
    "print(...) # Print report message"
   ]
  },
  {
   "cell_type": "markdown",
   "id": "50426811",
   "metadata": {},
   "source": [
    "### Activity 3:\n",
    "- Imagin and create the maize yields of four farmers stored in `farmer1`, `farmer2`, `farmer3` and `farmer4` variables.\n",
    "- Calculate:\n",
    "  * The total maize yield\n",
    "  * Average yield\n",
    "- A sentence that combines your name and your district"
   ]
  },
  {
   "cell_type": "markdown",
   "id": "090b2de4",
   "metadata": {},
   "source": [
    "## 📋**Lists - Storing Collections of Data**\n",
    "\n",
    "Lists are ordered, mutable collections of items in Python. They can contain items of different data types and are defined using square brackets `[]`.\n",
    "\n",
    "Let's imagine we've collected data from the **SUA's 2021/2022 academic year graduation** ceremony. We can represent this data using Python lists.\n"
   ]
  },
  {
   "cell_type": "code",
   "execution_count": null,
   "id": "7a3e5c95",
   "metadata": {},
   "outputs": [],
   "source": [
    "# List of the total number of graduates for each degree level\n",
    "total_graduates_by_degree = [3425, 41, 220, 48, 2] \n",
    "\n",
    "# A corresponding list of the degree names (strings)\n",
    "degree_names = [\"Bachelor's\", \"Master's\", \"PhD\", \"Diploma\", \"Certificate\", \"Higher Education Diploma\"]\n",
    "\n",
    "# A list of the number of female graduates for each degree level\n",
    "female_graduates = [1342, 18, 5, 99, 19, 1]\n",
    "\n",
    "# A list of the Average GPA for each degree level\n",
    "average_gpa_by_degree = [3.2, 3.5, 3.8, 3.0, 2.5, 3.9]"
   ]
  },
  {
   "cell_type": "markdown",
   "id": "f12b1d9b",
   "metadata": {},
   "source": [
    "### Indexing and Slicing\n",
    "We can use indexing to access specific data points from these lists.\n",
    "\n",
    "- **Indexing**: To find the number of Master's degree graduates, we can use indexing. Looking at our degree_names list, \"Master's\" is at index 1. We can then use that same index on our total_graduates_by_degree list to get the number."
   ]
  },
  {
   "cell_type": "code",
   "execution_count": null,
   "id": "56026d18",
   "metadata": {},
   "outputs": [],
   "source": [
    "# Access the number of Master's degree graduates\n",
    "print(f\"Number of Master's graduates: {...}\") # Output should be 41"
   ]
  },
  {
   "cell_type": "markdown",
   "id": "7ae03999",
   "metadata": {},
   "source": [
    "- **Slicing**: We can use slicing to analyze a portion of the data, such as just the graduates from advanced degree programs."
   ]
  },
  {
   "cell_type": "code",
   "execution_count": null,
   "id": "58ec6b8f",
   "metadata": {},
   "outputs": [],
   "source": [
    "# Slicing the lists to get data for advanced degrees (Master's and PhD)\n",
    "advanced_degrees = degree_names[...] # Get the names of advanced degrees\n",
    "advanced_degree_graduates = total_graduates_by_degree[...] # Get the number of graduates in advanced degrees\n",
    "advanced_degree_graduates_average_gpa = average_gpa_by_degree[...] # Get the average GPA for advanced degrees\n",
    "\n",
    "# Output the results\n",
    "print(f\"Advanced degree programs: {...}\") # Degree names\n",
    "print(f\"Number of graduates in advanced degrees: ...\") # Total graduates in advanced degrees\n",
    "print.... # Average GPA for advanced degrees\n",
    "\n",
    "# Reporting the results\n",
    "print(f\"The advanced degree programs was {...}, with {...} total graduates and average GPA of {...} respectivelly.\")"
   ]
  },
  {
   "cell_type": "markdown",
   "id": "fd5505c8",
   "metadata": {},
   "source": [
    "List Functions and Methods\n",
    "We can use built-in functions and methods to perform different operations, calculations and modify our data.\n",
    "\n",
    "  - `sum()`: used to find the total number of female graduates.\n",
    "  - `.append()`: Used to add new item to the list. Fore exmple the number of graduates can change from year to year. We can simulate adding new data for a different graduation year.\n"
   ]
  },
  {
   "cell_type": "code",
   "execution_count": null,
   "id": "eae8c8ad",
   "metadata": {},
   "outputs": [],
   "source": [
    "# Use `sum()` mfunction to alculate the total number of female graduates\n",
    "total_female_graduates = sum(female_graduates)\n",
    "print(f\"Total female graduates: {total_female_graduates}\")"
   ]
  },
  {
   "cell_type": "code",
   "execution_count": null,
   "id": "9cb2d97b",
   "metadata": {},
   "outputs": [],
   "source": [
    "# Use `.append()` method to add a new degree program and its data\n",
    "# Simulating a new graduation year with different data\n",
    "new_total_graduates_by_degree = [3425, 41, 220, 48, 2]\n",
    "new_total_graduates_by_degree.append(...) # Adding the total graduates from the 2022/2023 academic year\n",
    "\n",
    "print(f\"Updated list of graduates: {new_total_graduates_by_degree}\")"
   ]
  },
  {
   "cell_type": "markdown",
   "id": "35df5d12",
   "metadata": {},
   "source": [
    "##### Python provides several built-in functions and methods to work with lists.\n",
    "\n",
    "- `len(list)`: Returns the number of items in the list.\n",
    "\n",
    "- `list.append(item)`: Adds an item to the end of the list.\n",
    "\n",
    "- `list.insert(index, item)`: Inserts an item at a specified index.\n",
    "\n",
    "- `list.remove(item)`: Removes the first occurrence of a specific item.\n",
    "\n",
    "- `list.pop(index)`: Removes and returns the item at a given index. If no index is specified, it removes and returns the last item.\n",
    "\n",
    "- `list.sort()`: Sorts the list in ascending order.\n",
    "\n",
    "- `list.reverse()`: Reverses the order of items in the list.\n",
    "\n",
    "- `list.count(item)`: Returns the number of times an item appears in the list.\n",
    "\n",
    "**Bonus Task:**\n",
    "- Remove the added item from the list\n",
    "- Sort the total graduate list in ascending order\n",
    "- Sort the GPA list in descending order and revise the list"
   ]
  },
  {
   "cell_type": "markdown",
   "id": "bfc577d5",
   "metadata": {},
   "source": [
    "### Activity 3: Analyzing SUA Student Challenges\n",
    "Based on common challenges faced by university students, let's create a hypothetical list for SUA students and practice our skills.\n",
    "\n",
    "1. **Create a list** named `student_challenges` containing five common issues SUA students might face, such as \"internet connectivity,\" \"accommodations,\" \"financial constraints,\" \"time management,\" and \"academic pressure.\"\n",
    "\n",
    "2. **Print** the entire list.\n",
    "\n",
    "3. **Access and print** the challenge at index 2.\n",
    "\n",
    "4. **Add** a new challenge to the list using a list method. A for example could be \"transportation.\"\n",
    "\n",
    "5. **Remove** \"accommodations\" from the list and print the final list.\n",
    "\n",
    "6. **Create a new list** called `top_challenges` using **slicing** to show the first three challenges. Print this new list."
   ]
  },
  {
   "cell_type": "markdown",
   "id": "37c71c17",
   "metadata": {},
   "source": [
    "## 📚 **Dictionaries - Mapping Keys to Values**\n",
    "\n",
    "Python Dictionaries store data in **key-value pairs**.  \n",
    "Think of them as mini databases. It's mutable, meaning you can add, change, or remove items after it's created. \n",
    "- Dictionaries are useful for storing related information where each piece of data (the value) has a unique label (the key). \n",
    "- Unlike lists, dictionaries do not use numerical indexes. Instead, you access values using their keys. Data ae stored in `{}`.\n"
   ]
  },
  {
   "cell_type": "markdown",
   "id": "80279ed0",
   "metadata": {},
   "source": [
    "**Accessing and Modifying Dictionaries**\n",
    "- **Accessing Values**: You can get a value by using its key in square brackets, like dictionary[key].\n",
    "\n",
    "- **Adding/Updating Pairs**: To add a new item, you assign a value to a new key: `dictionary[new_key] = new_value`. If the key already exists, this will update its value.\n",
    "\n",
    "See examples below"
   ]
  },
  {
   "cell_type": "code",
   "execution_count": null,
   "id": "bf465723",
   "metadata": {},
   "outputs": [],
   "source": [
    "# A dictionary to store information about a student\n",
    "student_profile = {\n",
    "    'reg_number': 'SU2023/T/001',\n",
    "    'full_name': 'Aisha Omar',\n",
    "    'program': 'BSc. Agronomy',\n",
    "    'year': 1\n",
    "}\n",
    "\n",
    "# Accessing a value\n",
    "print(student_profile[...])  # Output: Aisha Omar\n",
    "\n",
    "# Adding a new piece of information\n",
    "student_profile['residence'] = 'Main Campus Hostel'\n",
    "\n",
    "# Print the updated dictionary\n",
    "print(...) "
   ]
  },
  {
   "cell_type": "markdown",
   "id": "546961df",
   "metadata": {},
   "source": [
    "Dictionary Functions and Methods\n",
    "Python provides several methods to work with dictionaries.\n",
    "\n",
    "- `.keys()`: Returns a list-like view of all the keys.\n",
    "\n",
    "- `.values()`: Returns a list-like view of all the values.\n",
    "\n",
    "- `.items()`: Returns a list-like view of all key-value pairs as tuples.\n",
    "\n",
    "- `.get(key, default)`: A safer way to access a value. If the key isn't found, it returns None or a specified default value, preventing an error.\n",
    "\n",
    "- `.pop(key)`: Removes a key-value pair and returns the value."
   ]
  },
  {
   "cell_type": "markdown",
   "id": "160d3809",
   "metadata": {},
   "source": [
    "## Activity 4: SUA Student Club Management 🧑‍🎓\n",
    "Imagine you are managing student clubs at SUA. Let's use a dictionary to keep track of their details.\n",
    "\n",
    "   1. **Create a dictionary** named `sua_clubs`. The keys should be the club names (e.g., 'SUA ICT Club', 'SUA Debating Society'), and the values should be another dictionary containing information like `members` (an integer) and `president` (a string). Create at least three clubs."
   ]
  },
  {
   "cell_type": "code",
   "execution_count": null,
   "id": "9bac6e3d",
   "metadata": {},
   "outputs": [],
   "source": [
    "sua_clubs = {\n",
    "    'SUA ICT Club': {'members': 150, 'president': 'Aisha Juma'}, # ICT club\n",
    "    'SUA Debating Society': {'...': ..., '...': '...'}, # Debating society\n",
    "    '...': ... # Environmental Club\n",
    "}"
   ]
  },
  {
   "cell_type": "markdown",
   "id": "d3f06bfe",
   "metadata": {},
   "source": [
    "  2. **Access and print** the president of the 'SUA ICT Club'."
   ]
  },
  {
   "cell_type": "code",
   "execution_count": null,
   "id": "4b719306",
   "metadata": {},
   "outputs": [],
   "source": [
    "# 2. Access the president\n",
    "print(f\"The president of the SUA ICT Club is: {sua_clubs['SUA ICT Club']['president']}\")"
   ]
  },
  {
   "cell_type": "markdown",
   "id": "3b64e56d",
   "metadata": {},
   "source": [
    "  3. **Update** the number of members for the 'SUA Debating Society' to 90. Print the updated club's information."
   ]
  },
  {
   "cell_type": "code",
   "execution_count": null,
   "id": "f7062bfc",
   "metadata": {},
   "outputs": [],
   "source": [
    "# 3. Update members\n",
    "sua_clubs['SUA Debating Society']['members'] = 90\n",
    "print(\"Updated Debating Society info:\", sua_clubs['SUA Debating Society'])"
   ]
  },
  {
   "cell_type": "markdown",
   "id": "01519224",
   "metadata": {},
   "source": [
    "  4. **Add a new club** to the dictionary, for example, the 'SUA Entrepreneurship Club' with 120 members and a president named 'Juma Ali'."
   ]
  },
  {
   "cell_type": "code",
   "execution_count": null,
   "id": "02b09581",
   "metadata": {},
   "outputs": [],
   "source": [
    "# 4. Add a new club\n",
    "sua_clubs['SUA Entrepreneurship Club'] = {'members': 120, 'president': 'Juma Ali'}\n",
    "print(\"Updated clubs list:\", sua_clubs)"
   ]
  },
  {
   "cell_type": "markdown",
   "id": "a4ea6035",
   "metadata": {},
   "source": [
    "5. Use a loop to print the name of each club and the number of its members in a formatted sentence. (NOTE:*The loop conept will be explaied in detail in the next sesseion* )"
   ]
  },
  {
   "cell_type": "code",
   "execution_count": null,
   "id": "73c82627",
   "metadata": {},
   "outputs": [],
   "source": [
    "# 5. Print club names and members\n",
    "print(\"\\nSUA Club Directory:\")\n",
    "for club_name, details in sua_clubs.items():\n",
    "    print(f\"- {club_name} has {details['members']} members.\")"
   ]
  },
  {
   "cell_type": "markdown",
   "id": "e488f2db",
   "metadata": {},
   "source": [
    "## **Mini Project: *Analyzing Student Accommodation Data***\n",
    "- This project aim to uses data types, lists, and dictionaries to **analyzing student accommodation preferences and costs at a Tanzanian university like SUA**.\n",
    "- Complete all the asignment in each stages as instructed\n",
    "- Use the concepts that you have learned above to accomplish this project"
   ]
  },
  {
   "cell_type": "markdown",
   "id": "70edfb19",
   "metadata": {},
   "source": [
    "#### Part 1: Setting up the Data\n",
    "Create a list of dictionaries to represent information about different student hostels. Each dictionary will contain data about a single hostel.\n",
    "\n",
    "1. **Create a list** named `hostel_data`.\n",
    "\n",
    "2. Inside this list, create at least three **dictionaries**, each representing a different hostel.\n",
    "\n",
    "3. Each dictionary should have the following ***keys*** and ***values***:\n",
    "\n",
    "   - `'name'`: The name of the hostel (e.g., `'Kizito Hostel'`).\n",
    "   - `'location'`: A brief description of its location (e.g., `'Near Faculty of Science'`)\n",
    "   - `'capacity'`: The number of students the hostel can accommodate (an integer).\n",
    "   - `'price_per_semester'`: The cost for a single student per semester (an integer)\n",
    "   - `'facilities'`: A list of available facilities (e.g., `['laundry', 'kitchen', 'Wi-Fi']`).\n",
    "\n",
    "Example Structure:"
   ]
  },
  {
   "cell_type": "code",
   "execution_count": null,
   "id": "341db667",
   "metadata": {},
   "outputs": [],
   "source": [
    "# 1. Create a dictionary for hostel data\n",
    "hostel_data = [\n",
    "    {\n",
    "        'name': 'Kizito Hostel',\n",
    "        'location': 'Near Faculty of Science',\n",
    "        'capacity': 100,\n",
    "        'price_per_semester': 400000,\n",
    "        'facilities': ['laundry', 'kitchen', 'Wi-Fi']\n",
    "    },\n",
    "    # Add at least two more hostel dictionaries here\n",
    "    ... # Example: {'name': 'Hostel Name', 'location': 'Location', ...}\n",
    "]"
   ]
  },
  {
   "cell_type": "markdown",
   "id": "6c885803",
   "metadata": {},
   "source": [
    "### Part 2: Data Exploration and Analysis\n",
    "Now, use your knowledge of lists and dictionaries to answer some questions about your data.\n",
    "\n",
    "1. Print the total number of hostels in your dataset using the len() function.\n",
    "\n",
    "2. Access and print the name of the first hostel in your hostel_data list.\n",
    "\n",
    "3. Find the total price of all hostels.\n",
    "\n",
    "   - Access the `'price_per_semester'` value from each hostel dictionary individually using their index and key.\n",
    "   - Use the `+` operator to sum these prices and print the total.\n",
    "\n",
    "4. Identify if the first hostel has Wi-Fi.\n",
    "\n",
    "   - Access the `'facilities'` list of the first hostel.\n",
    "   - Use the `in` operator to check if the string `'Wi-Fi'` is in that list. Print the boolean result (`True` or `False`)."
   ]
  },
  {
   "cell_type": "code",
   "execution_count": null,
   "id": "f32886b2",
   "metadata": {},
   "outputs": [],
   "source": [
    "# Complete the exploration and analysis tasks here\n",
    "# 1. Print the total number of hostels in your dataset using the len() function\n",
    "\n",
    "# 2. Access and print the name of the first hostel in your hostel_data list.\n",
    "\n",
    "# 3. Find the average price for all semester.\n"
   ]
  },
  {
   "cell_type": "markdown",
   "id": "e2fbaa2e",
   "metadata": {},
   "source": [
    "# **THE END**\n",
    "Thank you"
   ]
  }
 ],
 "metadata": {
  "kernelspec": {
   "display_name": "jonas-py311",
   "language": "python",
   "name": "python3"
  },
  "language_info": {
   "name": "python",
   "version": "3.11.13"
  }
 },
 "nbformat": 4,
 "nbformat_minor": 5
}
